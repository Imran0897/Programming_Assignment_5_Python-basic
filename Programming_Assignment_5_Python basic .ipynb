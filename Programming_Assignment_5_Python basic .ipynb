{
 "cells": [
  {
   "cell_type": "code",
   "execution_count": null,
   "id": "4aad351c",
   "metadata": {},
   "outputs": [],
   "source": [
    "#1.\n",
    "\n",
    "n = int(input(\"enter first number\"))\n",
    "m = int(input(\"enter second number\"))\n",
    "\n",
    "if n >m:\n",
    "    g = n\n",
    "else:\n",
    "    g = m\n",
    "while True:\n",
    "    if g%n ==0 and g%m==0:\n",
    "        lcm= g\n",
    "        break\n",
    "    g=g+1\n",
    "print(lcm)"
   ]
  },
  {
   "cell_type": "code",
   "execution_count": null,
   "id": "e864276b",
   "metadata": {},
   "outputs": [],
   "source": [
    "#2.\n",
    "\n",
    "n = int(input(\"enter first number\"))\n",
    "m = int(input(\"enter second number\"))\n",
    "if n<m:\n",
    "    g = n\n",
    "else:\n",
    "    g = m\n",
    "for i in range(1,g+1):\n",
    "    if m%i==0 and n%i==0:\n",
    "        hcf=i\n",
    "    else:\n",
    "        pass\n",
    "print(hcf)"
   ]
  },
  {
   "cell_type": "code",
   "execution_count": null,
   "id": "3a132bd1",
   "metadata": {},
   "outputs": [],
   "source": [
    "#3.\n",
    " \n",
    "def decimal_into_binary(decimal_1):  \n",
    "    decimal = int(decimal_1)  \n",
    "  \n",
    "    print (\"The given decimal number\", decimal, \"in Binary number is: \", bin(decimal))    \n",
    "def decimal_into_octal(decimal_1):  \n",
    "    decimal = int(decimal_1)  \n",
    "    \n",
    "    print (\"The given decimal number\", decimal, \"in Octal number is: \", oct(decimal))    \n",
    "def decimal_into_hexadecimal(decimal_1):  \n",
    "    decimal = int(decimal_1)  \n",
    "    print (\"The given decimal number\", decimal, \" in Hexadecimal number is: \", hex(decimal))  \n",
    " \n",
    "decimal_1 = int (input (\" Enter the Decimal Number: \"))  \n",
    "decimal_into_binary(decimal_1)  \n",
    "decimal_into_octal(decimal_1)  \n",
    "decimal_into_hexadecimal(decimal_1)"
   ]
  },
  {
   "cell_type": "code",
   "execution_count": null,
   "id": "77c58060",
   "metadata": {},
   "outputs": [],
   "source": [
    "#4.\n",
    "\n",
    "x = input(\"enter any character\")\n",
    "print(\"ASCII value of\",x,\"is\",ord(x))"
   ]
  },
  {
   "cell_type": "code",
   "execution_count": null,
   "id": "342adb0b",
   "metadata": {},
   "outputs": [],
   "source": [
    "#5.\n",
    "\n",
    "\n",
    "opperation = int(input(\"enter the opperation- 1 for addition,2 for subtraction,3 for multiplication,4 for division\"))\n",
    "\n",
    "if opperation in (1,2,3,4):\n",
    "    a = int(input(\"enter first number\"))\n",
    "    b = int(input(\"enter second number\"))\n",
    "    if opperation == 1:\n",
    "        print(a+b)\n",
    "    elif opperation == 2:\n",
    "        print(a-b)\n",
    "    elif opperation == 3:\n",
    "        print(a*b)\n",
    "    elif opperation == 4:\n",
    "        print(a/b)\n",
    "else:\n",
    "    print('invilid')\n"
   ]
  }
 ],
 "metadata": {
  "kernelspec": {
   "display_name": "Python 3 (ipykernel)",
   "language": "python",
   "name": "python3"
  },
  "language_info": {
   "codemirror_mode": {
    "name": "ipython",
    "version": 3
   },
   "file_extension": ".py",
   "mimetype": "text/x-python",
   "name": "python",
   "nbconvert_exporter": "python",
   "pygments_lexer": "ipython3",
   "version": "3.9.7"
  }
 },
 "nbformat": 4,
 "nbformat_minor": 5
}
